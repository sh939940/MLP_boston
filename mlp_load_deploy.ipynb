{
  "nbformat": 4,
  "nbformat_minor": 0,
  "metadata": {
    "colab": {
      "provenance": [],
      "authorship_tag": "ABX9TyP9W0BjfYCjiqXp0pGEd0sE",
      "include_colab_link": true
    },
    "kernelspec": {
      "name": "python3",
      "display_name": "Python 3"
    },
    "language_info": {
      "name": "python"
    }
  },
  "cells": [
    {
      "cell_type": "markdown",
      "metadata": {
        "id": "view-in-github",
        "colab_type": "text"
      },
      "source": [
        "<a href=\"https://colab.research.google.com/github/sh939940/MLP_boston/blob/main/mlp_load_deploy.ipynb\" target=\"_parent\"><img src=\"https://colab.research.google.com/assets/colab-badge.svg\" alt=\"Open In Colab\"/></a>"
      ]
    },
    {
      "cell_type": "code",
      "source": [
        "import tensorflow as tf\n",
        "from tensorflow import keras\n",
        "import numpy as np\n",
        "from sklearn import preprocessing\n",
        "from sklearn.preprocessing import scale"
      ],
      "metadata": {
        "id": "Et9Q_Bm8Z5aF"
      },
      "execution_count": 21,
      "outputs": []
    },
    {
      "cell_type": "code",
      "source": [
        "# Loading the Pre-trained Model\n",
        "from keras.src.legacy.saving import legacy_h5_format\n",
        "model = legacy_h5_format.load_model_from_hdf5(\"/content/sample_data/House_Price(1).h5\",custom_objects={'mse':'mse'})"
      ],
      "metadata": {
        "colab": {
          "base_uri": "https://localhost:8080/"
        },
        "id": "KGFKj500aj5y",
        "outputId": "a15ec6c5-56ee-428e-f3db-ee88ba7f7d64"
      },
      "execution_count": 22,
      "outputs": [
        {
          "output_type": "stream",
          "name": "stderr",
          "text": [
            "WARNING:absl:Compiled the loaded model, but the compiled metrics have yet to be built. `model.compile_metrics` will be empty until you train or evaluate the model.\n"
          ]
        }
      ]
    },
    {
      "cell_type": "code",
      "source": [
        "# get data from user\n",
        "input = np.array([  1.23247,   0.     ,   8.14   ,   0.     ,   0.538  ,   6.142  ,\n",
        "                    91.7    ,   3.9769 ,   4.     , 307.     ,  21.     , 396.9    ,\n",
        "                    18.72   ])"
      ],
      "metadata": {
        "id": "1E5Od2drkYt7"
      },
      "execution_count": 23,
      "outputs": []
    },
    {
      "cell_type": "code",
      "source": [
        "# scaling the input data\n",
        "scaled_data = preprocessing.scale(input)\n",
        "scaled_data"
      ],
      "metadata": {
        "colab": {
          "base_uri": "https://localhost:8080/"
        },
        "id": "H-H4fvw8zR8h",
        "outputId": "3e0ab29f-6f0a-482f-c349-5d37e26056e3"
      },
      "execution_count": 24,
      "outputs": [
        {
          "output_type": "execute_result",
          "data": {
            "text/plain": [
              "array([-0.51746305, -0.52729417, -0.46236334, -0.52729417, -0.52300267,\n",
              "       -0.4783009 ,  0.20417478, -0.49557139, -0.49538712,  1.92157133,\n",
              "       -0.3597822 ,  2.6386821 , -0.37796921])"
            ]
          },
          "metadata": {},
          "execution_count": 24
        }
      ]
    },
    {
      "cell_type": "code",
      "source": [
        "scaled_data = scaled_data.reshape(1, -1)\n",
        "scaled_data"
      ],
      "metadata": {
        "colab": {
          "base_uri": "https://localhost:8080/"
        },
        "id": "J0dKutu92daS",
        "outputId": "b65557c8-5a8e-4e04-b07e-f2a5d7496183"
      },
      "execution_count": 26,
      "outputs": [
        {
          "output_type": "execute_result",
          "data": {
            "text/plain": [
              "array([[-0.51746305, -0.52729417, -0.46236334, -0.52729417, -0.52300267,\n",
              "        -0.4783009 ,  0.20417478, -0.49557139, -0.49538712,  1.92157133,\n",
              "        -0.3597822 ,  2.6386821 , -0.37796921]])"
            ]
          },
          "metadata": {},
          "execution_count": 26
        }
      ]
    },
    {
      "cell_type": "code",
      "source": [
        "prediction = model.predict(scaled_data)\n",
        "\n",
        "# Print the predicted output\n",
        "print(\"Predicted house price:\", prediction.flatten()[0])"
      ],
      "metadata": {
        "colab": {
          "base_uri": "https://localhost:8080/"
        },
        "id": "ghpMYOeV2g20",
        "outputId": "80bb9a38-48ea-4790-8021-f139692bfc17"
      },
      "execution_count": 27,
      "outputs": [
        {
          "output_type": "stream",
          "name": "stdout",
          "text": [
            "\u001b[1m1/1\u001b[0m \u001b[32m━━━━━━━━━━━━━━━━━━━━\u001b[0m\u001b[37m\u001b[0m \u001b[1m0s\u001b[0m 110ms/step\n",
            "Predicted house price: 15.885792\n"
          ]
        }
      ]
    },
    {
      "cell_type": "code",
      "source": [
        "new = np.array([[-0.51746305, -0.52729417, -0.46236334, -0.52729417, -0.52300267,\n",
        "       -0.4783009 ,  0.20417478, -0.49557139, -0.49538712,  1.92157133,\n",
        "       -0.3597822 ,  2.6386821 , -0.37796921]])\n",
        "prediction = model.predict(new)\n",
        "print(prediction)"
      ],
      "metadata": {
        "colab": {
          "base_uri": "https://localhost:8080/"
        },
        "id": "HdphzVUcziNh",
        "outputId": "cc9d4f55-4df8-4028-966c-8229b1e17513"
      },
      "execution_count": 8,
      "outputs": [
        {
          "output_type": "stream",
          "name": "stdout",
          "text": [
            "\u001b[1m1/1\u001b[0m \u001b[32m━━━━━━━━━━━━━━━━━━━━\u001b[0m\u001b[37m\u001b[0m \u001b[1m0s\u001b[0m 40ms/step\n",
            "[[15.885794]]\n"
          ]
        }
      ]
    },
    {
      "cell_type": "code",
      "source": [
        "input_data =np.array([[2.8040301, -0.50784934,  0.96960877, -0.32969024,  1.23174581,\n",
        "        0.11934137,  1.14739788, -0.91935276,  1.60609286,  1.40778227,\n",
        "        0.90513041, -4.27829517,  2.51324773]])\n",
        "prediction=model.predict(input_data)\n",
        "print(prediction)"
      ],
      "metadata": {
        "colab": {
          "base_uri": "https://localhost:8080/"
        },
        "id": "LKHp5lyb0XHo",
        "outputId": "46da7f3e-91eb-4a6c-fd3f-65c038e26fc7"
      },
      "execution_count": 9,
      "outputs": [
        {
          "output_type": "stream",
          "name": "stdout",
          "text": [
            "\u001b[1m1/1\u001b[0m \u001b[32m━━━━━━━━━━━━━━━━━━━━\u001b[0m\u001b[37m\u001b[0m \u001b[1m0s\u001b[0m 43ms/step\n",
            "[[8.40889]]\n"
          ]
        }
      ]
    }
  ]
}